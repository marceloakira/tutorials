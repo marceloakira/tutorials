{
 "cells": [
  {
   "cell_type": "code",
   "execution_count": 1,
   "id": "e62c51ed",
   "metadata": {
    "vscode": {
     "languageId": "java"
    }
   },
   "outputs": [],
   "source": [
    "// Tentando carregar as dependências Maven diretamente\n",
    "%maven com.j256.ormlite:ormlite-core:6.1\n",
    "%maven com.j256.ormlite:ormlite-jdbc:6.1  \n",
    "%maven org.xerial:sqlite-jdbc:3.45.1.0\n",
    "%maven org.slf4j:slf4j-api:2.0.12\n",
    "%maven ch.qos.logback:logback-classic:1.4.14"
   ]
  },
  {
   "cell_type": "code",
   "execution_count": 8,
   "id": "23488864",
   "metadata": {
    "vscode": {
     "languageId": "java"
    }
   },
   "outputs": [
    {
     "name": "stdout",
     "output_type": "stream",
     "text": [
      "🎉 Classes importadas com sucesso!\n"
     ]
    }
   ],
   "source": [
    "// Adicionando as classes compiladas do projeto\n",
    "%classpath add jar ../target/classes\n",
    "\n",
    "// Importando as classes do projeto\n",
    "import br.ufg.inf.orm_maven.Database;\n",
    "import br.ufg.inf.orm_maven.Student;\n",
    "import br.ufg.inf.orm_maven.StudentRepository;\n",
    "import java.text.SimpleDateFormat;\n",
    "\n",
    "System.out.println(\"🎉 Classes importadas com sucesso!\");"
   ]
  },
  {
   "cell_type": "code",
   "execution_count": 15,
   "id": "17905b48",
   "metadata": {
    "vscode": {
     "languageId": "java"
    }
   },
   "outputs": [
    {
     "name": "stdout",
     "output_type": "stream",
     "text": [
      "Opened database successfully\n",
      "✅ Conexão estabelecida com sucesso!\n"
     ]
    }
   ],
   "source": [
    "// Testando o uso das classes com configuração Maven\n",
    "Database database = new Database(\"test-maven.db\");\n",
    "// Testando conexão\n",
    "try {\n",
    "    var connection = database.getConnection();\n",
    "    System.out.println(\"✅ Conexão estabelecida com sucesso!\");\n",
    "    database.close();\n",
    "} catch (Exception e) {\n",
    "    System.out.println(\"❌ Erro: \" + e.getMessage());\n",
    "}"
   ]
  },
  {
   "cell_type": "code",
   "execution_count": 16,
   "id": "7e2205de",
   "metadata": {
    "vscode": {
     "languageId": "java"
    }
   },
   "outputs": [
    {
     "name": "stdout",
     "output_type": "stream",
     "text": [
      "Opened database successfully\n",
      "🎉 Aluno criado com sucesso: João da Silva Com id: 1\n",
      "🎉 Aluno criado com sucesso: Maria Souza Com id: 2\n"
     ]
    }
   ],
   "source": [
    "Student joao = new Student();\n",
    "joao.setFullName(\"João da Silva\");\n",
    "joao.setRegistration(12345);\n",
    "joao.setBirthday(new SimpleDateFormat(\"dd/MM/yyyy\").parse(\"01/01/2000\"));\n",
    "\n",
    "Student maria = new Student();\n",
    "maria.setFullName(\"Maria Souza\");\n",
    "maria.setRegistration(54321);\n",
    "maria.setBirthday(new SimpleDateFormat(\"dd/MM/yyyy\").parse(\"01/01/2000\"));\n",
    "\n",
    "StudentRepository studentRepository = new StudentRepository(database);\n",
    "var studentCreated = studentRepository.create(joao);\n",
    "System.out.println(\"🎉 Aluno criado com sucesso: \" + studentCreated.getFullName() + \" Com id: \" + studentCreated.getId());\n",
    "\n",
    "var studentCreatedMaria = studentRepository.create(maria);\n",
    "System.out.println(\"🎉 Aluno criado com sucesso: \" + studentCreatedMaria.getFullName() + \" Com id: \" + studentCreatedMaria.getId());"
   ]
  }
 ],
 "metadata": {
  "kernelspec": {
   "display_name": "Java",
   "language": "java",
   "name": "java"
  },
  "language_info": {
   "codemirror_mode": "java",
   "file_extension": ".jshell",
   "mimetype": "text/x-java-source",
   "name": "Java",
   "pygments_lexer": "java",
   "version": "24.0.1+9"
  }
 },
 "nbformat": 4,
 "nbformat_minor": 5
}
